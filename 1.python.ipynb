{
  "nbformat": 4,
  "nbformat_minor": 0,
  "metadata": {
    "colab": {
      "provenance": []
    },
    "kernelspec": {
      "name": "python3",
      "display_name": "Python 3"
    },
    "language_info": {
      "name": "python"
    },
    "gpuClass": "standard"
  },
  "cells": [
    {
      "cell_type": "markdown",
      "source": [
        "##INTRODUÇÃO A PYTHON E PANDAS\n",
        "\n",
        "#Introdução\n",
        "\n",
        "Python é uma linguagem de programação de alto nível, interpretada e dinamicamente tipada, que é popular para desenvolvimento web, ciência de dados, automação de tarefas, entre outros. Pandas é uma biblioteca de análise de dados que é popular para trabalhar com dados tabulares.\n",
        "\n",
        "#Sintaxe\n",
        "\n",
        "A sintaxe em Python é relativamente simples. Para começar, todas as declarações são terminadas por dois pontos (:), e blocos de código são delimitados por indentação. Por exemplo, um loop for pode ser escrito da seguinte maneira:"
      ],
      "metadata": {
        "id": "Twc4ahCGRTLb"
      }
    },
    {
      "cell_type": "code",
      "source": [],
      "metadata": {
        "id": "L3AwoNUy23cd"
      },
      "execution_count": null,
      "outputs": []
    },
    {
      "cell_type": "code",
      "source": [
        "for i in range(10):\n",
        "    print(i)\n"
      ],
      "metadata": {
        "id": "3Fk0npvaRQEM",
        "outputId": "27536582-1b74-44cf-c938-f5450f36a875",
        "colab": {
          "base_uri": "https://localhost:8080/"
        }
      },
      "execution_count": 1,
      "outputs": [
        {
          "output_type": "stream",
          "name": "stdout",
          "text": [
            "0\n",
            "1\n",
            "2\n",
            "3\n",
            "4\n",
            "5\n",
            "6\n",
            "7\n",
            "8\n",
            "9\n"
          ]
        }
      ]
    },
    {
      "cell_type": "markdown",
      "source": [
        "Isso imprimirá os números de 0 a 9 na tela. Observe que a linha com o print é indentada. Isso indica que ela faz parte do loop for.\n",
        "\n",
        "Outra parte fundamental da sintaxe em Python são os comentários. Comentários são linhas de código que são ignoradas pelo interpretador, mas que são úteis para documentação e esclarecimento de código. Comentários começam com o símbolo #. \n",
        "#Por exemplo:"
      ],
      "metadata": {
        "id": "lne1uPGHRrHa"
      }
    },
    {
      "cell_type": "code",
      "source": [
        "# Este é um comentário\n",
        "x = 5 # Isto é também um comentário\n"
      ],
      "metadata": {
        "id": "iLt1nA2qRxWS"
      },
      "execution_count": 2,
      "outputs": []
    },
    {
      "cell_type": "markdown",
      "source": [
        "#Variáveis\n",
        "\n",
        "Variáveis em Python são atribuídas com o operador de atribuição =. Python é uma linguagem dinamicamente tipada, o que significa que você não precisa declarar explicitamente o tipo de uma variável. O tipo é inferido automaticamente pelo Python, dependendo do valor atribuído à variável."
      ],
      "metadata": {
        "id": "oCCCqndYR3hw"
      }
    },
    {
      "cell_type": "code",
      "source": [
        "x = 5 # x é um inteiro\n",
        "y = \"Hello\" # y é uma string\n",
        "z = [1, 2, 3] # z é uma lista\n"
      ],
      "metadata": {
        "id": "WLEJSum9WBzs"
      },
      "execution_count": 3,
      "outputs": []
    },
    {
      "cell_type": "markdown",
      "source": [
        "\n",
        "Observe que as listas em Python são criadas usando colchetes [].\n",
        "\n",
        "#Listas\n",
        "As listas são uma das estruturas de dados mais básicas em Python. Elas são um conjunto ordenado de valores, que podem ser de diferentes tipos. Listas são mutáveis, o que significa que é possível modificar seus valores.\n",
        "\n"
      ],
      "metadata": {
        "id": "haX7S-guWAy_"
      }
    },
    {
      "cell_type": "code",
      "source": [
        "my_list = [1, 2, 3, \"hello\", \"world\"]\n",
        "my_list"
      ],
      "metadata": {
        "id": "ACcJS4GJWR3h",
        "colab": {
          "base_uri": "https://localhost:8080/"
        },
        "outputId": "2700cac5-9943-40b0-abb8-ea8278d7ee16"
      },
      "execution_count": 4,
      "outputs": [
        {
          "output_type": "execute_result",
          "data": {
            "text/plain": [
              "[1, 2, 3, 'hello', 'world']"
            ]
          },
          "metadata": {},
          "execution_count": 4
        }
      ]
    },
    {
      "cell_type": "markdown",
      "source": [
        "Para acessar um elemento específico em uma lista, você pode usar o operador de índice []."
      ],
      "metadata": {
        "id": "YLtVu49RWe_h"
      }
    },
    {
      "cell_type": "code",
      "source": [
        "print(my_list[0]) # imprime 1\n",
        "print(my_list[3]) # imprime \"hello\"\n"
      ],
      "metadata": {
        "id": "Fd5LtJlEWhTn",
        "colab": {
          "base_uri": "https://localhost:8080/"
        },
        "outputId": "7a90ca5c-9f21-416d-ae70-be430c68cc79"
      },
      "execution_count": 5,
      "outputs": [
        {
          "output_type": "stream",
          "name": "stdout",
          "text": [
            "1\n",
            "hello\n"
          ]
        }
      ]
    },
    {
      "cell_type": "markdown",
      "source": [
        "Para adicionar um elemento no final da lista, você pode usar o método append."
      ],
      "metadata": {
        "id": "sJ6fQPP6Wsqx"
      }
    },
    {
      "cell_type": "code",
      "source": [
        "my_list.append(4)\n",
        "print(my_list) # imprime [1, 2, 3, \"hello\", \"world\", 4]"
      ],
      "metadata": {
        "id": "xPLY3BKDWuht",
        "colab": {
          "base_uri": "https://localhost:8080/"
        },
        "outputId": "ccd94d96-fc1d-4d25-80c4-987e527b00d7"
      },
      "execution_count": 6,
      "outputs": [
        {
          "output_type": "stream",
          "name": "stdout",
          "text": [
            "[1, 2, 3, 'hello', 'world', 4]\n"
          ]
        }
      ]
    },
    {
      "cell_type": "markdown",
      "source": [
        "Para remover um elemento específico da lista, você pode usar o método remove.\n"
      ],
      "metadata": {
        "id": "bsetG4XCW2Eu"
      }
    },
    {
      "cell_type": "code",
      "source": [
        "my_list.remove(2)\n",
        "print(my_list) # imprime [1, 3, \"hello\", \"world\", 4]\n"
      ],
      "metadata": {
        "id": "ptSnOGAGW7Kh",
        "colab": {
          "base_uri": "https://localhost:8080/"
        },
        "outputId": "051b4303-16c6-4261-fa8a-89b1821a4a80"
      },
      "execution_count": 7,
      "outputs": [
        {
          "output_type": "stream",
          "name": "stdout",
          "text": [
            "[1, 3, 'hello', 'world', 4]\n"
          ]
        }
      ]
    },
    {
      "cell_type": "markdown",
      "source": [
        "#Tuplas\n",
        "Tuplas são estruturas de dados semelhantes a listas, mas que são imutáveis. Isso significa que você não pode adicionar, remover ou modificar elementos em uma tupla depois de criá-la."
      ],
      "metadata": {
        "id": "AgOlcPyCXGUM"
      }
    },
    {
      "cell_type": "code",
      "source": [
        "my_tuple = (1, 2, 3, \"hello\", \"world\")\n"
      ],
      "metadata": {
        "id": "_XDLhUVVXMCJ"
      },
      "execution_count": 8,
      "outputs": []
    },
    {
      "cell_type": "markdown",
      "source": [
        "O acesso a elementos em uma tupla é feito da mesma maneira que em uma lista, usando o operador de índice []"
      ],
      "metadata": {
        "id": "6pXUF1oeXSjB"
      }
    },
    {
      "cell_type": "code",
      "source": [
        "print(my_tuple[0]) # imprime 1\n",
        "print(my_tuple[3]) # imprime \"hello\"\n"
      ],
      "metadata": {
        "id": "gp1BbRXrXXo2",
        "colab": {
          "base_uri": "https://localhost:8080/"
        },
        "outputId": "6a9ad011-4f0a-44aa-cad2-02bc6f43178b"
      },
      "execution_count": 9,
      "outputs": [
        {
          "output_type": "stream",
          "name": "stdout",
          "text": [
            "1\n",
            "hello\n"
          ]
        }
      ]
    },
    {
      "cell_type": "markdown",
      "source": [
        "Embora você não possa modificar uma tupla depois de criá-la, é possível criar uma nova tupla a partir de uma existente, adicionando ou removendo elementos.\n"
      ],
      "metadata": {
        "id": "OqTfkz0IXgOu"
      }
    },
    {
      "cell_type": "code",
      "source": [
        "new_tuple = my_tuple + (4,)\n",
        "print(new_tuple) # imprime (1, 2, 3, \"hello\", \"world\", 4)\n"
      ],
      "metadata": {
        "id": "3zeMQglnXkNk",
        "colab": {
          "base_uri": "https://localhost:8080/"
        },
        "outputId": "406e0ca2-b20c-4759-c47b-c9885522cfae"
      },
      "execution_count": 10,
      "outputs": [
        {
          "output_type": "stream",
          "name": "stdout",
          "text": [
            "(1, 2, 3, 'hello', 'world', 4)\n"
          ]
        }
      ]
    },
    {
      "cell_type": "markdown",
      "source": [
        "Observe que para adicionar um único elemento a uma tupla, é necessário incluí-lo dentro de parênteses e seguido por uma vírgula. Isso ocorre porque o Python interpreta parênteses sem vírgula como uma expressão, e não como uma tupla.\n",
        "\n",
        "#Conjuntos\n",
        "Conjuntos em Python são estruturas de dados que armazenam um conjunto não ordenado e sem repetição de elementos. Conjuntos são úteis para operações matemáticas como união, interseção e diferença."
      ],
      "metadata": {
        "id": "8KHTGhp3X3Ml"
      }
    },
    {
      "cell_type": "code",
      "source": [
        "my_set = {1, 2, 3, 4, 5}\n"
      ],
      "metadata": {
        "id": "GipZy4vZYFxf"
      },
      "execution_count": 11,
      "outputs": []
    },
    {
      "cell_type": "markdown",
      "source": [
        "Para adicionar um elemento a um conjunto, você pode usar o método add."
      ],
      "metadata": {
        "id": "QDZv7M39YNcp"
      }
    },
    {
      "cell_type": "code",
      "source": [
        "my_set.add(6)\n",
        "print(my_set) # imprime {1, 2, 3, 4, 5, 6}"
      ],
      "metadata": {
        "id": "Sq9f5500YOuL",
        "colab": {
          "base_uri": "https://localhost:8080/"
        },
        "outputId": "8b09992e-8b17-4b77-dfc6-519e3774444c"
      },
      "execution_count": 12,
      "outputs": [
        {
          "output_type": "stream",
          "name": "stdout",
          "text": [
            "{1, 2, 3, 4, 5, 6}\n"
          ]
        }
      ]
    },
    {
      "cell_type": "markdown",
      "source": [
        "Para remover um elemento de um conjunto, você pode usar o método remove."
      ],
      "metadata": {
        "id": "PovVYXjlYR5-"
      }
    },
    {
      "cell_type": "code",
      "source": [
        "my_set.remove(4)\n",
        "print(my_set) # imprime {1, 2, 3, 5, 6}"
      ],
      "metadata": {
        "id": "l5jj5w8CYXa_",
        "colab": {
          "base_uri": "https://localhost:8080/"
        },
        "outputId": "49f008b0-2cde-4335-b14f-9d24ddf222f9"
      },
      "execution_count": 13,
      "outputs": [
        {
          "output_type": "stream",
          "name": "stdout",
          "text": [
            "{1, 2, 3, 5, 6}\n"
          ]
        }
      ]
    },
    {
      "cell_type": "markdown",
      "source": [
        "#Dicionários\n",
        "Dicionários em Python são estruturas de dados que associam uma chave a um valor. Cada chave em um dicionário é única."
      ],
      "metadata": {
        "id": "ojMdevzMYsrf"
      }
    },
    {
      "cell_type": "code",
      "source": [
        "my_dict = {\"name\": \"John\", \"age\": 30, \"city\": \"New York\"}\n"
      ],
      "metadata": {
        "id": "eyCFZQvrYwu1"
      },
      "execution_count": 14,
      "outputs": []
    },
    {
      "cell_type": "markdown",
      "source": [
        "Para acessar o valor de um elemento em um dicionário, você pode usar a chave correspondente."
      ],
      "metadata": {
        "id": "tWExdYfZYyL_"
      }
    },
    {
      "cell_type": "code",
      "source": [
        "print(my_dict[\"name\"]) # imprime \"John\"\n",
        "print(my_dict[\"age\"]) # imprime 30\n"
      ],
      "metadata": {
        "id": "MS8SjQ_GYxBv",
        "colab": {
          "base_uri": "https://localhost:8080/"
        },
        "outputId": "8924e189-619d-4a6a-8d96-6b7f8879da5d"
      },
      "execution_count": 15,
      "outputs": [
        {
          "output_type": "stream",
          "name": "stdout",
          "text": [
            "John\n",
            "30\n"
          ]
        }
      ]
    },
    {
      "cell_type": "markdown",
      "source": [
        "Para adicionar um novo elemento a um dicionário, você pode simplesmente atribuir um valor a uma nova chave."
      ],
      "metadata": {
        "id": "rTmJY39HY6VV"
      }
    },
    {
      "cell_type": "code",
      "source": [
        "my_dict[\"gender\"] = \"male\"\n",
        "print(my_dict) # imprime {\"name\": \"John\", \"age\": 30, \"city\": \"New York\", \"gender\": \"male\"}\n"
      ],
      "metadata": {
        "id": "m7WYhRC-ZDje",
        "colab": {
          "base_uri": "https://localhost:8080/"
        },
        "outputId": "e5efa991-6ac7-4909-89dd-e72ac8339b61"
      },
      "execution_count": 16,
      "outputs": [
        {
          "output_type": "stream",
          "name": "stdout",
          "text": [
            "{'name': 'John', 'age': 30, 'city': 'New York', 'gender': 'male'}\n"
          ]
        }
      ]
    },
    {
      "cell_type": "markdown",
      "source": [
        "Para remover um elemento de um dicionário, você pode usar a palavra-chave del."
      ],
      "metadata": {
        "id": "VJt0HEIBZMcT"
      }
    },
    {
      "cell_type": "code",
      "source": [
        "del my_dict[\"city\"]\n",
        "print(my_dict) # imprime {\"name\": \"John\", \"age\": 30, \"gender\": \"male\"}\n"
      ],
      "metadata": {
        "id": "dVW3raJLZPKH",
        "colab": {
          "base_uri": "https://localhost:8080/"
        },
        "outputId": "a97f428b-61e6-4eae-bdbd-8e640520057f"
      },
      "execution_count": 17,
      "outputs": [
        {
          "output_type": "stream",
          "name": "stdout",
          "text": [
            "{'name': 'John', 'age': 30, 'gender': 'male'}\n"
          ]
        }
      ]
    },
    {
      "cell_type": "markdown",
      "source": [
        "Em Python, existem vários tipos de dados predefinidos, incluindo:\n",
        "\n",
        "*int (inteiro): números inteiros, como 1, 2, 3, etc.\n",
        "\n",
        "*float (ponto flutuante): números reais, como 1.0, 2.5, 3.14159, etc.\n",
        "\n",
        "*bool (booleano): valores lógicos True (verdadeiro) e False (falso).\n",
        "\n",
        "*str (string): sequências de caracteres, como \"hello\", \"world\", etc.\n",
        "\n",
        "*list: coleções ordenadas de objetos, que podem ser de diferentes tipos de dados.\n",
        "\n",
        "*tuple: coleções ordenadas de objetos, que podem ser de diferentes tipos de dados, mas são imutáveis (ou seja, não podem ser alteradas após a criação).\n",
        "\n",
        "*set: coleções não ordenadas de objetos exclusivos, que podem ser de diferentes tipos de dados.\n",
        "\n",
        "*dict (dicionário): coleções não ordenadas de pares chave-valor, onde as chaves são únicas e os valores podem ser de diferentes tipos de dados.\n",
        "\n",
        "Para descobrir o tipo de dados de uma variável em Python, podemos usar a função type()."
      ],
      "metadata": {
        "id": "X9gaODw-ZQRd"
      }
    },
    {
      "cell_type": "code",
      "source": [
        "x = 10\n",
        "y = str(x)\n",
        "print(type(y))   # <class 'str'>\n",
        "\n",
        "z = float(x)\n",
        "print(type(z))   # <class 'float'>\n",
        "\n",
        "w = bool(x)\n",
        "print(type(w))   # <class 'bool'>\n"
      ],
      "metadata": {
        "id": "yD1ligZceJB4",
        "colab": {
          "base_uri": "https://localhost:8080/"
        },
        "outputId": "3d225e6d-56ae-42d7-ae92-bd077183b8c8"
      },
      "execution_count": 18,
      "outputs": [
        {
          "output_type": "stream",
          "name": "stdout",
          "text": [
            "<class 'str'>\n",
            "<class 'float'>\n",
            "<class 'bool'>\n"
          ]
        }
      ]
    },
    {
      "cell_type": "markdown",
      "source": [
        "Compreender os tipos de dados em Python é importante para trabalhar com variáveis e estruturas de dados em Python.\n",
        "\n",
        "#Loops\n",
        "Os loops permitem que você execute um bloco de código várias vezes. Em Python, existem dois tipos principais de loops: o loop for e o loop while.\n",
        "\n",
        "#Loop for\n",
        "O loop for é usado para iterar sobre uma sequência de itens. Por exemplo, podemos usar um loop for para imprimir cada elemento de uma lista:"
      ],
      "metadata": {
        "id": "-4b7TsUSePkd"
      }
    },
    {
      "cell_type": "code",
      "source": [
        "fruits = [\"apple\", \"banana\", \"cherry\"]\n",
        "\n",
        "for fruit in fruits:\n",
        "    print(fruit)\n"
      ],
      "metadata": {
        "id": "XJvNUVWbg7oK",
        "colab": {
          "base_uri": "https://localhost:8080/"
        },
        "outputId": "71c88595-2c05-48a9-a6bf-baa9c271bb15"
      },
      "execution_count": 19,
      "outputs": [
        {
          "output_type": "stream",
          "name": "stdout",
          "text": [
            "apple\n",
            "banana\n",
            "cherry\n"
          ]
        }
      ]
    },
    {
      "cell_type": "markdown",
      "source": [
        "#Loop while\n",
        "O loop while é usado para repetir um bloco de código enquanto uma condição for verdadeira. Por exemplo, podemos usar um loop while para imprimir os números de 0 a 4:"
      ],
      "metadata": {
        "id": "WT5BF7QqhAWn"
      }
    },
    {
      "cell_type": "code",
      "source": [
        "i = 0\n",
        "\n",
        "while i < 5:\n",
        "    print(i)\n",
        "    i += 1\n"
      ],
      "metadata": {
        "id": "XcX2uYILhChB",
        "colab": {
          "base_uri": "https://localhost:8080/"
        },
        "outputId": "35f6d27b-cad0-4e2d-e3fa-d1e4b6b0d8b9"
      },
      "execution_count": 20,
      "outputs": [
        {
          "output_type": "stream",
          "name": "stdout",
          "text": [
            "0\n",
            "1\n",
            "2\n",
            "3\n",
            "4\n"
          ]
        }
      ]
    },
    {
      "cell_type": "markdown",
      "source": [
        "#Funções\n",
        "As funções são blocos de código que executam uma tarefa específica. Em Python, você pode criar suas próprias funções usando a palavra-chave def.\n",
        "\n",
        "Por exemplo, podemos criar uma função que calcula a soma de dois números:"
      ],
      "metadata": {
        "id": "u_zufZPzhImE"
      }
    },
    {
      "cell_type": "code",
      "source": [
        "def add_numbers(x, y):\n",
        "    return x + y\n",
        "\n",
        "result = add_numbers(3, 5)\n",
        "print(result)   # 8\n"
      ],
      "metadata": {
        "id": "lmORZEuzhFvv",
        "colab": {
          "base_uri": "https://localhost:8080/"
        },
        "outputId": "1ffa44ee-3d58-477c-928f-5c701b345b08"
      },
      "execution_count": 21,
      "outputs": [
        {
          "output_type": "stream",
          "name": "stdout",
          "text": [
            "8\n"
          ]
        }
      ]
    },
    {
      "cell_type": "markdown",
      "source": [
        "Neste exemplo, a função add_numbers recebe dois argumentos (x e y) e retorna sua soma.\n",
        "\n",
        "As funções podem ser usadas para organizar o código em blocos reutilizáveis e também para tornar o código mais legível.\n",
        "\n",
        "Além disso, em Python existem muitas funções predefinidas, como: **print(), len(), range()**, etc. Você também pode importar módulos que contêm funções adicionais para estender as funcionalidades do Python."
      ],
      "metadata": {
        "id": "CQ5uWPWphQ6s"
      }
    },
    {
      "cell_type": "markdown",
      "source": [
        "#Glossário com definições sucintas de alguns termos e comandos usados até aqui:\n",
        "\n",
        "Python: Uma linguagem de programação de alto nível, interpretada, interativa e orientada a objetos.\n",
        "Pandas: Uma biblioteca Python de análise de dados que fornece estruturas de dados de alta performance e ferramentas de análise de dados.\n",
        "\n",
        "+ Sintaxe: A forma correta de escrever o código em uma linguagem de programação, incluindo a ordem dos comandos, a pontuação, etc.\n",
        "\n",
        "+ Loops: Estruturas de controle de fluxo que permitem que um bloco de código seja executado várias vezes.\n",
        "\n",
        "+ Loop for: Um tipo de loop que é usado para iterar sobre uma sequência de itens.\n",
        "\n",
        "+ Loop while: Um tipo de loop que é usado para repetir um bloco de código enquanto uma condição for verdadeira.\n",
        "\n",
        "+ Variáveis: Um nome que é usado para se referir a um valor armazenado na memória do computador.\n",
        "\n",
        "+ Listas: Uma coleção ordenada e mutável de elementos, que podem ser de diferentes tipos de dados.\n",
        "\n",
        "+ Tuplas: Uma coleção ordenada e imutável de elementos, que podem ser de diferentes tipos de dados.\n",
        "\n",
        "+ Sets: Uma coleção não ordenada e mutável de elementos únicos.\n",
        "\n",
        "+ Dicionários: Uma coleção não ordenada e mutável de pares chave-valor.\n",
        "\n",
        "+ Funções: Blocos de código que executam uma tarefa específica e podem ser reutilizados em diferentes partes do programa.\n",
        "\n",
        "+ def: Uma palavra-chave em Python usada para definir uma nova função.\n",
        "\n",
        "+ return: Uma palavra-chave em Python usada para retornar um valor de uma função.\n",
        "\n",
        "+ Indexação: A maneira de acessar elementos individuais em uma sequência, como uma lista ou uma string, usando colchetes e um índice.\n",
        "\n",
        "+ Métodos: Funções associadas a um objeto específico que podem ser usadas para modificar ou consultar esse objeto.\n",
        "\n",
        "+ Numpy: Uma biblioteca Python para computação científica, que fornece suporte para arrays multidimensionais e funções matemáticas.\n",
        "\n",
        "+ Array: Uma estrutura de dados multidimensional usada para armazenar elementos do mesmo tipo de dados.\n",
        "\n",
        "+ Dataframe: A estrutura de dados central na biblioteca Pandas, que é usada para armazenar dados tabulares em duas dimensões (linhas e colunas).\n",
        "\n",
        "+ Series: Uma estrutura de dados unidimensional semelhante a uma lista, mas com recursos adicionais e otimizada para análise de dados.\n",
        "\n",
        "+ iloc: Um método usado para acessar elementos em um dataframe ou série pelo seu índice inteiro.\n",
        "\n",
        "+ loc: Um método usado para acessar elementos em um dataframe ou série por meio de rótulos de linha ou coluna.\n",
        "\n",
        "+ groupby: Um método usado para agrupar dados em um dataframe com base em valores de uma ou mais colunas.\n",
        "\n",
        "+ apply: Um método usado para aplicar uma função a um dataframe ou série.\n",
        "\n",
        "+ merge: Um método usado para combinar dois dataframes com base em uma ou mais colunas em comum.\n",
        "\n",
        "+ concat: Um método usado para concatenar dois ou mais dataframes ou séries ao longo de um eixo específico.\n",
        "\n",
        "# Uma lista de algumas das bibliotecas mais usadas em Python:\n",
        "\n",
        "+ Pandas: Uma biblioteca para análise de dados que fornece estruturas de dados de alta performance e ferramentas de análise de dados.\n",
        "+ Numpy: Uma biblioteca para computação científica que fornece suporte para arrays multidimensionais e funções matemáticas.\n",
        "+ Matplotlib: Uma biblioteca para visualização de dados em gráficos e plots.\n",
        "+ Scikit-learn: Uma biblioteca para aprendizado de máquina que fornece algoritmos para classificação, regressão e clusterização.\n",
        "+ TensorFlow: Uma biblioteca para aprendizado de máquina que fornece uma plataforma para construir e treinar modelos de redes neurais.\n",
        "+ PyTorch: Uma biblioteca para aprendizado de máquina que fornece uma plataforma para construir e treinar modelos de redes neurais, com ênfase em deep learning.\n",
        "+ Seaborn: Uma biblioteca para visualização de dados em gráficos e plots, construída em cima do Matplotlib e com recursos adicionais.\n",
        "+ SciPy: Uma biblioteca para computação científica que fornece algoritmos para otimização, álgebra linear, processamento de sinais e estatísticas.\n",
        "+ Requests: Uma biblioteca para fazer requisições HTTP em Python.\n",
        "+ BeautifulSoup: Uma biblioteca para extrair informações de HTML e XML em Python."
      ],
      "metadata": {
        "id": "qHSn6k8MjhuD"
      }
    },
    {
      "cell_type": "markdown",
      "source": [
        "#Pandas.\n",
        "\n",
        "Pandas é uma biblioteca popular de análise de dados em Python que fornece estruturas de dados de alta performance e ferramentas de manipulação de dados. As duas estruturas de dados principais em Pandas são as Series e DataFrames.\n",
        "\n",
        "Series\n",
        "Uma Series é uma estrutura de dados unidimensional semelhante a uma matriz, lista ou coluna de uma tabela de banco de dados. Cada elemento em uma Series é rotulado com um índice, que pode ser um valor inteiro ou uma string."
      ],
      "metadata": {
        "id": "24hi_R90h3Wd"
      }
    },
    {
      "cell_type": "code",
      "source": [
        "import pandas as pd\n",
        "\n",
        "my_series = pd.Series([10, 20, 30, 40, 50], index=['a', 'b', 'c', 'd', 'e'])\n",
        "print(my_series)\n"
      ],
      "metadata": {
        "id": "IenHnT6Nh6HK",
        "colab": {
          "base_uri": "https://localhost:8080/"
        },
        "outputId": "d77544e6-8f95-4382-982d-2c0a9475ee98"
      },
      "execution_count": 22,
      "outputs": [
        {
          "output_type": "stream",
          "name": "stdout",
          "text": [
            "a    10\n",
            "b    20\n",
            "c    30\n",
            "d    40\n",
            "e    50\n",
            "dtype: int64\n"
          ]
        }
      ]
    },
    {
      "cell_type": "markdown",
      "source": [
        "#DataFrames\n",
        "Um DataFrame é uma estrutura de dados tabular bidimensional semelhante a uma planilha do Excel ou a uma tabela de banco de dados. Cada coluna em um DataFrame é uma Series, e as linhas são rotuladas com um índice."
      ],
      "metadata": {
        "id": "XeLIv8N7h9v5"
      }
    },
    {
      "cell_type": "code",
      "source": [
        "my_dict = {'name': ['John', 'Mary', 'Peter', 'Jane'],\n",
        "           'age': [30, 25, 40, 35],\n",
        "           'city': ['New York', 'Paris', 'London', 'Sydney']}\n",
        "\n",
        "my_dataframe = pd.DataFrame(my_dict)\n",
        "print(my_dataframe)\n"
      ],
      "metadata": {
        "id": "AQoYx1ZsiCxz",
        "colab": {
          "base_uri": "https://localhost:8080/"
        },
        "outputId": "d224e5bc-4701-422d-b41c-5e0a394d3495"
      },
      "execution_count": 23,
      "outputs": [
        {
          "output_type": "stream",
          "name": "stdout",
          "text": [
            "    name  age      city\n",
            "0   John   30  New York\n",
            "1   Mary   25     Paris\n",
            "2  Peter   40    London\n",
            "3   Jane   35    Sydney\n"
          ]
        }
      ]
    },
    {
      "cell_type": "markdown",
      "source": [
        "#Selecionando Dados\n",
        "Pandas fornece muitas maneiras de selecionar e filtrar dados em um DataFrame. Uma maneira simples de selecionar colunas é usar a notação de colchetes."
      ],
      "metadata": {
        "id": "q8MpA-5tiHhM"
      }
    },
    {
      "cell_type": "code",
      "source": [
        "names = my_dataframe['name']\n",
        "print(names)\n"
      ],
      "metadata": {
        "id": "4jATzVsPiLK_",
        "colab": {
          "base_uri": "https://localhost:8080/"
        },
        "outputId": "098072b8-618b-4ad0-c757-ae2d86482a55"
      },
      "execution_count": 24,
      "outputs": [
        {
          "output_type": "stream",
          "name": "stdout",
          "text": [
            "0     John\n",
            "1     Mary\n",
            "2    Peter\n",
            "3     Jane\n",
            "Name: name, dtype: object\n"
          ]
        }
      ]
    },
    {
      "cell_type": "markdown",
      "source": [
        "Para selecionar linhas, você pode usar o método loc."
      ],
      "metadata": {
        "id": "oOs0zYLRiNnj"
      }
    },
    {
      "cell_type": "code",
      "source": [
        "row = my_dataframe.loc[2]\n",
        "print(row)"
      ],
      "metadata": {
        "id": "x5KeJWGsiROp",
        "colab": {
          "base_uri": "https://localhost:8080/"
        },
        "outputId": "985184e4-fc1c-420e-ee16-a7c7b565efd8"
      },
      "execution_count": 25,
      "outputs": [
        {
          "output_type": "stream",
          "name": "stdout",
          "text": [
            "name     Peter\n",
            "age         40\n",
            "city    London\n",
            "Name: 2, dtype: object\n"
          ]
        }
      ]
    },
    {
      "cell_type": "markdown",
      "source": [
        "Você também pode selecionar um subconjunto de linhas e colunas usando a notação de colchetes."
      ],
      "metadata": {
        "id": "9VdovOFhid1W"
      }
    },
    {
      "cell_type": "code",
      "source": [
        "subset = my_dataframe.loc[[1, 3], ['name', 'city']]\n",
        "print(subset)\n"
      ],
      "metadata": {
        "id": "zL-4Jp-lijKe",
        "colab": {
          "base_uri": "https://localhost:8080/"
        },
        "outputId": "e96bcd84-0e9d-411e-9e19-79a03a94549d"
      },
      "execution_count": 26,
      "outputs": [
        {
          "output_type": "stream",
          "name": "stdout",
          "text": [
            "   name    city\n",
            "1  Mary   Paris\n",
            "3  Jane  Sydney\n"
          ]
        }
      ]
    },
    {
      "cell_type": "code",
      "source": [],
      "metadata": {
        "id": "iiIwoQcCjFh-"
      },
      "execution_count": 26,
      "outputs": []
    },
    {
      "cell_type": "markdown",
      "source": [
        "## Exercício\n",
        "\n",
        "Crie uma função chamada sum_even_numbers que recebe uma lista de números como argumento e retorna a soma de todos os números pares na lista.\n",
        "\n",
        "Em seguida, crie um loop que pede ao usuário para digitar uma lista de números separados por vírgula e, em seguida, chama a função sum_even_numbers com a lista de entrada. O loop deve continuar até que o usuário digite \"fim\" para sair.\n",
        "\n",
        "Por exemplo:"
      ],
      "metadata": {
        "id": "k0eg4T1HjHtT"
      }
    },
    {
      "cell_type": "code",
      "source": [
        "#Digite uma lista de números separados por vírgula (ou digite 'fim' para sair): 1, 2, 3, 4, 5\n",
        "#A soma dos números pares na lista é 6\n",
        "#\n",
        "#Digite uma lista de números separados por vírgula (ou digite 'fim' para sair): 7, 8, 9, 10\n",
        "#A soma dos números pares na lista é 18\n",
        "#\n",
        "#Digite uma lista de números separados por vírgula (ou digite 'fim' para sair): fim\n"
      ],
      "metadata": {
        "id": "eexytS5djT_K"
      },
      "execution_count": 27,
      "outputs": []
    },
    {
      "cell_type": "code",
      "source": [
        "def sum_even_numbers(numbers):\n",
        "    return sum([num for num in numbers if num % 2 == 0])\n",
        "\n",
        "while True:\n",
        "    pergunta = input(\"Digite uma lista de números separados por vírgula (ou 'fim' para sair): \")\n",
        "    \n",
        "    if pergunta.lower() == 'fim':\n",
        "        break\n",
        "    \n",
        "    numbers = [int(num) for num in pergunta.split(',') if num.strip().isdigit()]\n",
        "    \n",
        "    print(\"A soma dos números pares é:\", sum_even_numbers(numbers))"
      ],
      "metadata": {
        "colab": {
          "base_uri": "https://localhost:8080/"
        },
        "id": "jR6rUPg3Ev_O",
        "outputId": "3738e730-65d1-48a6-f2cd-ea7aaaf9c1ec"
      },
      "execution_count": 28,
      "outputs": [
        {
          "name": "stdout",
          "output_type": "stream",
          "text": [
            "Digite uma lista de números separados por vírgula (ou 'fim' para sair): 2,4\n",
            "A soma dos números pares é: 6\n",
            "Digite uma lista de números separados por vírgula (ou 'fim' para sair): fim\n"
          ]
        }
      ]
    }
  ]
}