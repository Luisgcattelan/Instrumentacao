{
  "nbformat": 4,
  "nbformat_minor": 0,
  "metadata": {
    "colab": {
      "provenance": [],
      "include_colab_link": true
    },
    "kernelspec": {
      "name": "python3",
      "display_name": "Python 3"
    },
    "language_info": {
      "name": "python"
    },
    "gpuClass": "standard"
  },
  "cells": [
    {
      "cell_type": "markdown",
      "metadata": {
        "id": "view-in-github",
        "colab_type": "text"
      },
      "source": [
        "<a href=\"https://colab.research.google.com/github/Luisgcattelan/Instrumentacao/blob/main/Copy_of_Curso_de_Python_POO.ipynb\" target=\"_parent\"><img src=\"https://colab.research.google.com/assets/colab-badge.svg\" alt=\"Open In Colab\"/></a>"
      ]
    },
    {
      "cell_type": "markdown",
      "source": [
        "## Curso de Programação Orientada a Objetos em Python \n",
        "#Introdução\n",
        "Programação Orientada a Objetos (POO) é um paradigma de programação que se baseia no conceito de objetos e classes. Em POO, um objeto é uma instância de uma classe, e uma classe é uma abstração de um conceito ou entidade.\n",
        "\n",
        "Python é uma linguagem de programação que suporta POO. Em Python, a POO é usada para criar programas modulares e reutilizáveis. Com POO, podemos criar nossas próprias classes, que podem conter atributos e métodos. Os atributos são variáveis associadas a um objeto, enquanto os métodos são funções que operam sobre esses atributos.\n",
        "\n",
        "Neste curso, você aprenderá os conceitos básicos de POO em Python, incluindo:\n",
        "\n",
        "<br>**Classes e objetos**\n",
        "<br>**Atributos e métodos**\n",
        "<br>**Encapsulamento**\n",
        "<br>**Herança**\n",
        "<br>**Polimorfismo**\n",
        "______\n",
        "#Classes e Objetos\n",
        "Uma classe é uma definição para criar um objeto. É uma estrutura que define as características e comportamentos que um objeto pode ter. Um objeto, por sua vez, é uma instância de uma classe.\n",
        "\n",
        "Exemplo:"
      ],
      "metadata": {
        "id": "vVB4mqKui2bd"
      }
    },
    {
      "cell_type": "code",
      "source": [
        "class Carro:\n",
        "    def __init__(self, marca, modelo, ano):\n",
        "        self.marca = marca\n",
        "        self.modelo = modelo\n",
        "        self.ano = ano\n",
        "\n",
        "    def detalhes(self):\n",
        "        print(f\"Marca: {self.marca}\\nModelo: {self.modelo}\\nAno: {self.ano}\")\n",
        "\n",
        "meu_carro = Carro(\"Fiat\", \"Palio\", 2020)\n",
        "meu_carro.detalhes()\n"
      ],
      "metadata": {
        "id": "pBGvxJz0jJ5p",
        "colab": {
          "base_uri": "https://localhost:8080/"
        },
        "outputId": "9231522e-29b8-4444-b96e-3bf8bea65563"
      },
      "execution_count": 6,
      "outputs": [
        {
          "output_type": "stream",
          "name": "stdout",
          "text": [
            "Marca: Fiat\n",
            "Modelo: Palio\n",
            "Ano: 2020\n"
          ]
        }
      ]
    },
    {
      "cell_type": "code",
      "source": [
        "meu_carro.modelo"
      ],
      "metadata": {
        "colab": {
          "base_uri": "https://localhost:8080/",
          "height": 35
        },
        "id": "GurLPnO6Qght",
        "outputId": "2456c651-9306-4ea2-b724-d61cd2d04af5"
      },
      "execution_count": 7,
      "outputs": [
        {
          "output_type": "execute_result",
          "data": {
            "text/plain": [
              "'Palio'"
            ],
            "application/vnd.google.colaboratory.intrinsic+json": {
              "type": "string"
            }
          },
          "metadata": {},
          "execution_count": 7
        }
      ]
    },
    {
      "cell_type": "markdown",
      "source": [
        "Aqui, criamos uma classe chamada Carro que tem três atributos: marca, modelo e ano. A função __init__ é um método especial que é executado sempre que um novo objeto é criado. O primeiro parâmetro de __init__ é self, que é uma referência ao objeto atual. Em seguida, os outros parâmetros são atribuídos aos atributos da classe.\n",
        "\n",
        "Em seguida, definimos um método chamado detalhes que exibe os valores dos atributos do objeto. Por fim, criamos um objeto meu_carro da classe Carro e chamamos o método detalhes para exibir suas informações.\n",
        "\n",
        "#Atributos e Métodos\n",
        "Em POO, os atributos são variáveis associadas a um objeto, enquanto os métodos são funções que operam sobre esses atributos.\n",
        "\n",
        "Exemplo:"
      ],
      "metadata": {
        "id": "RE0oISF9jNH3"
      }
    },
    {
      "cell_type": "code",
      "source": [
        "class Pessoa:\n",
        "    def __init__(self, nome, idade):\n",
        "        self.nome = nome\n",
        "        self.idade = idade\n",
        "\n",
        "    def dizer_nome(self):\n",
        "        print(f\"Meu nome é {self.nome}\")\n",
        "\n",
        "    def dizer_idade(self):\n",
        "        print(f\"Eu tenho {self.idade} anos\")\n",
        "\n",
        "pessoa = Pessoa(\"João\", 30)\n",
        "pessoa.dizer_nome()\n",
        "pessoa.dizer_idade()\n",
        "dir(Pessoa)"
      ],
      "metadata": {
        "id": "7kOOKcFyjUuS",
        "colab": {
          "base_uri": "https://localhost:8080/"
        },
        "outputId": "bafbb5ee-a4a2-48ec-9c80-4ffc6ed4a9d7"
      },
      "execution_count": 8,
      "outputs": [
        {
          "output_type": "stream",
          "name": "stdout",
          "text": [
            "Meu nome é João\n",
            "Eu tenho 30 anos\n"
          ]
        },
        {
          "output_type": "execute_result",
          "data": {
            "text/plain": [
              "['__class__',\n",
              " '__delattr__',\n",
              " '__dict__',\n",
              " '__dir__',\n",
              " '__doc__',\n",
              " '__eq__',\n",
              " '__format__',\n",
              " '__ge__',\n",
              " '__getattribute__',\n",
              " '__gt__',\n",
              " '__hash__',\n",
              " '__init__',\n",
              " '__init_subclass__',\n",
              " '__le__',\n",
              " '__lt__',\n",
              " '__module__',\n",
              " '__ne__',\n",
              " '__new__',\n",
              " '__reduce__',\n",
              " '__reduce_ex__',\n",
              " '__repr__',\n",
              " '__setattr__',\n",
              " '__sizeof__',\n",
              " '__str__',\n",
              " '__subclasshook__',\n",
              " '__weakref__',\n",
              " 'dizer_idade',\n",
              " 'dizer_nome']"
            ]
          },
          "metadata": {},
          "execution_count": 8
        }
      ]
    },
    {
      "cell_type": "markdown",
      "source": [
        "Aqui, criamos uma classe chamada Pessoa que tem dois atributos: nome e idade. Em seguida, definimos dois métodos, dizer_nome e dizer_idade, que exibem os valores dos atributos.\n",
        "\n",
        "Em seguida,criamos um objeto pessoa da classe Pessoa e chamamos os métodos dizer_nome e dizer_idade para exibir as informações do objeto.\n",
        "#Encapsulamento\n",
        "Encapsulamento é o conceito de ocultar os detalhes de implementação de uma classe. Em Python, isso é feito usando métodos privados e protegidos.\n",
        "\n",
        "Exemplo"
      ],
      "metadata": {
        "id": "4nz1fm7ckeMM"
      }
    },
    {
      "cell_type": "code",
      "source": [
        "class ContaBancaria:\n",
        "    def __init__(self, titular, saldo):\n",
        "        self.titular = titular\n",
        "        self.__saldo = saldo  # saldo é privado\n",
        "\n",
        "    def depositar(self, valor):\n",
        "        self.__saldo += valor\n",
        "\n",
        "    def sacar(self, valor):\n",
        "        if self.__saldo >= valor:\n",
        "            self.__saldo -= valor\n",
        "        else:\n",
        "            print(\"Saldo insuficiente\")\n",
        "\n",
        "    def consultar_saldo(self):\n",
        "        print(f\"Saldo: R$ {self.__saldo:.2f}\")\n",
        "\n",
        "conta = ContaBancaria(\"João\", 1000)\n",
        "conta.consultar_saldo()\n",
        "conta.depositar(500)\n",
        "conta.consultar_saldo()\n",
        "conta.sacar(300)\n",
        "conta.consultar_saldo()\n",
        "conta.sacar(1500)\n"
      ],
      "metadata": {
        "id": "l7UC4WVylFZM",
        "colab": {
          "base_uri": "https://localhost:8080/"
        },
        "outputId": "499763d8-0d54-4efc-b192-427e5ace3a5e"
      },
      "execution_count": 9,
      "outputs": [
        {
          "output_type": "stream",
          "name": "stdout",
          "text": [
            "Saldo: R$ 1000.00\n",
            "Saldo: R$ 1500.00\n",
            "Saldo: R$ 1200.00\n",
            "Saldo insuficiente\n"
          ]
        }
      ]
    },
    {
      "cell_type": "code",
      "source": [],
      "metadata": {
        "id": "vIakCMsPUl51"
      },
      "execution_count": 9,
      "outputs": []
    },
    {
      "cell_type": "markdown",
      "source": [
        "Aqui, criamos uma classe chamada ContaBancaria que tem dois atributos: titular e saldo. O saldo é marcado como privado usando dois caracteres de sublinhado antes do nome.\n",
        "\n",
        "Em seguida, definimos três métodos, depositar, sacar e consultar_saldo, que operam sobre o saldo. O método consultar_saldo é público e pode ser usado para exibir o saldo. Os métodos depositar e sacar são privados e podem ser usados apenas dentro da classe.\n",
        "\n",
        "Em seguida, criamos um objeto conta da classe ContaBancaria e chamamos os métodos para depositar, sacar e consultar o saldo.\n",
        "\n",
        "#Herança\n",
        "Herança é o conceito de criar uma nova classe a partir de uma classe existente. A nova classe herda os atributos e métodos da classe existente e pode adicionar novos atributos e métodos.\n",
        "\n",
        "Exemplo:"
      ],
      "metadata": {
        "id": "YrCEPgpZlcNv"
      }
    },
    {
      "cell_type": "code",
      "source": [
        "class Animal:\n",
        "    def __init__(self, nome):\n",
        "        self.nome = nome\n",
        "\n",
        "    def fazer_som(self):\n",
        "        pass\n",
        "\n",
        "class Cachorro(Animal):\n",
        "    def __init__(self, nome):\n",
        "        super().__init__(nome)\n",
        "\n",
        "    def fazer_som(self):\n",
        "        print(\"Au au\")\n",
        "\n",
        "class Gato(Animal):\n",
        "    def __init__(self, nome):\n",
        "        super().__init__(nome)\n",
        "\n",
        "    def fazer_som(self):\n",
        "        print(\"Miau\")\n",
        "\n",
        "cachorro = Cachorro(\"Rex\")\n",
        "gato = Gato(\"Frajola\")\n",
        "cachorro.fazer_som()\n",
        "gato.fazer_som()\n"
      ],
      "metadata": {
        "id": "v-_lad2Xlhm4",
        "colab": {
          "base_uri": "https://localhost:8080/"
        },
        "outputId": "00abc3f3-5f07-4b91-a491-963da577ca6d"
      },
      "execution_count": 10,
      "outputs": [
        {
          "output_type": "stream",
          "name": "stdout",
          "text": [
            "Au au\n",
            "Miau\n"
          ]
        }
      ]
    },
    {
      "cell_type": "markdown",
      "source": [],
      "metadata": {
        "id": "7E264XtRiqym"
      }
    },
    {
      "cell_type": "markdown",
      "source": [
        "Aqui, criamos uma classe chamada Animal que tem um atributo nome e um método fazer_som. Em seguida, criamos duas classes, Cachorro e Gato, que herdam de Animal e adicionam o método fazer_som.\n",
        "\n",
        "Em seguida, criamos dois objetos, cachorro e gato, da classe Cachorro e Gato, respectivamente, e chamamos o método fazer_som.\n",
        "\n",
        "#Polimorfismo\n",
        "Polimorfismo é o conceito de que objetos de classes diferentes podem ser tratados de forma semelhante. Isso é possível porque as classes compartilham um método comum com a mesma assinatura (nome e parâmetros).\n",
        "\n",
        "Exemplo:"
      ],
      "metadata": {
        "id": "1ncB-bfuloZF"
      }
    },
    {
      "cell_type": "code",
      "source": [
        "class Animal:\n",
        "    def __init__(self, nome):\n",
        "        self.nome = nome\n",
        "\n",
        "    def fazer_som(self):\n",
        "        pass\n",
        "\n",
        "class Cachorro(Animal):\n",
        "    def __init__(self, nome):\n",
        "        super().__init__(nome)\n",
        "\n",
        "    def fazer_som(self):\n",
        "        print(\"Au au\")\n",
        "\n",
        "class Gato(Animal):\n",
        "    def __init__(self, nome):\n",
        "        super().__init__(nome)\n",
        "\n",
        "    def fazer_som(self):\n",
        "        print(\"Miau\")\n",
        "\n",
        "def fazer_som_animal(animal):\n",
        "    animal.fazer_som()\n",
        "\n",
        "cachorro = Cachorro(\"Rex\")\n",
        "gato = Gato(\"Frajola\")\n",
        "fazer_som_animal(cachorro)\n",
        "fazer_som_animal(gato)\n"
      ],
      "metadata": {
        "id": "w1C39hWjl0_U",
        "colab": {
          "base_uri": "https://localhost:8080/"
        },
        "outputId": "03eb2f39-35a7-4100-e4a7-eafc595986b8"
      },
      "execution_count": 11,
      "outputs": [
        {
          "output_type": "stream",
          "name": "stdout",
          "text": [
            "Au au\n",
            "Miau\n"
          ]
        }
      ]
    },
    {
      "cell_type": "markdown",
      "source": [
        "Aqui, temos as mesmas classes Animal, Cachorro e Gato do exemplo anterior. Em seguida, definimos uma função fazer_som_animal que recebe um objeto de classe Animal e chama o método fazer_som.\n",
        "\n",
        "Em seguida, criamos dois objetos, cachorro e gato, da classe Cachorro e Gato, respectivamente, e os passamos para a função fazer_som_animal. A função chama o método fazer_som de cada objeto.\n",
        "\n",
        "Isso é possível porque as classes Cachorro e Gato têm um método comum chamado fazer_som com a mesma assinatura.\n",
        "\n",
        "## Perguntas\n",
        "\n",
        "#O que é instanciar um objeto?\n",
        "\n",
        "Em programação orientada a objetos, a instanciação de objetos é o processo de criação de um objeto a partir de uma classe. Uma classe é um modelo para um objeto, que contém a definição de seus atributos e métodos.\n",
        "\n",
        "Quando criamos uma instância de uma classe, criamos um objeto específico daquele tipo, com seus próprios valores para os atributos e comportamentos específicos que podem ser executados por meio dos métodos definidos na classe.\n",
        "\n",
        "Em Python, a instanciação de objetos é realizada com o uso da palavra-chave \"class\" seguida do nome da classe e dos parênteses vazios, como no exemplo abaixo:\n",
        "\n",
        "Exemplo:"
      ],
      "metadata": {
        "id": "MPasgrA-mD2E"
      }
    },
    {
      "cell_type": "code",
      "source": [
        "class Pessoa:\n",
        "    def __init__(self, nome, idade):\n",
        "        self.nome = nome\n",
        "        self.idade = idade\n",
        "\n",
        "pessoa1 = Pessoa(\"João\", 30)\n",
        "pessoa2 = Pessoa(\"Maria\", 25)\n",
        "pessoa1.idade"
      ],
      "metadata": {
        "id": "-v2XZRiDmCq9",
        "colab": {
          "base_uri": "https://localhost:8080/"
        },
        "outputId": "22c084c7-1330-4d2a-b607-c681fcd50385"
      },
      "execution_count": 12,
      "outputs": [
        {
          "output_type": "execute_result",
          "data": {
            "text/plain": [
              "30"
            ]
          },
          "metadata": {},
          "execution_count": 12
        }
      ]
    },
    {
      "cell_type": "markdown",
      "source": [
        "Neste exemplo, criamos uma classe chamada \"Pessoa\" que possui dois atributos, \"nome\" e \"idade\", e um construtor \"init\" que recebe os valores desses atributos como argumentos.\n",
        "\n",
        "Em seguida, criamos duas instâncias da classe \"Pessoa\", \"pessoa1\" e \"pessoa2\", passando valores diferentes para os parâmetros do construtor.\n",
        "\n",
        "Cada instância de objeto tem sua própria cópia dos atributos da classe e pode executar os métodos definidos na classe. Isso permite que o código seja organizado em unidades lógicas e que possa ser reutilizado em diferentes partes do programa.\n",
        "\n",
        "#O que é um construtor e cite os existentes em python?\n",
        "Em programação orientada a objetos, um construtor é um método especial que é executado automaticamente quando uma nova instância de uma classe é criada. O construtor é responsável por inicializar os atributos da classe e executar qualquer outra inicialização necessária.\n",
        "\n",
        "Em Python, o construtor é definido pelo método especial __init__. Quando uma nova instância de uma classe é criada, o Python automaticamente chama o método __init__ da classe com os argumentos passados na criação da instância.\n",
        "\n",
        "Por exemplo, vamos considerar a seguinte classe:\n",
        "\n",
        "\n",
        "\n"
      ],
      "metadata": {
        "id": "JTUbh4GGncYZ"
      }
    },
    {
      "cell_type": "code",
      "source": [
        "class Pessoa:\n",
        "    def __init__(self, nome, idade):\n",
        "        self.nome = nome\n",
        "        self.idade = idade\n"
      ],
      "metadata": {
        "id": "BDCVYWgNoCw_"
      },
      "execution_count": 13,
      "outputs": []
    },
    {
      "cell_type": "markdown",
      "source": [
        "Neste caso, a classe \"Pessoa\" possui um construtor que recebe dois argumentos, \"nome\" e \"idade\". Dentro do construtor, estamos inicializando os atributos da classe \"nome\" e \"idade\" com os valores passados como argumentos.\n",
        "\n",
        "Agora, quando criamos uma nova instância da classe \"Pessoa\", como abaixo:"
      ],
      "metadata": {
        "id": "UZ5zCy8KoG_P"
      }
    },
    {
      "cell_type": "code",
      "source": [
        "p = Pessoa(\"João\", 30)\n",
        "dir(p)"
      ],
      "metadata": {
        "id": "Pj2WFbpCoJhh",
        "colab": {
          "base_uri": "https://localhost:8080/"
        },
        "outputId": "30941155-f607-428e-9fb5-f3107ee12891"
      },
      "execution_count": 14,
      "outputs": [
        {
          "output_type": "execute_result",
          "data": {
            "text/plain": [
              "['__class__',\n",
              " '__delattr__',\n",
              " '__dict__',\n",
              " '__dir__',\n",
              " '__doc__',\n",
              " '__eq__',\n",
              " '__format__',\n",
              " '__ge__',\n",
              " '__getattribute__',\n",
              " '__gt__',\n",
              " '__hash__',\n",
              " '__init__',\n",
              " '__init_subclass__',\n",
              " '__le__',\n",
              " '__lt__',\n",
              " '__module__',\n",
              " '__ne__',\n",
              " '__new__',\n",
              " '__reduce__',\n",
              " '__reduce_ex__',\n",
              " '__repr__',\n",
              " '__setattr__',\n",
              " '__sizeof__',\n",
              " '__str__',\n",
              " '__subclasshook__',\n",
              " '__weakref__',\n",
              " 'idade',\n",
              " 'nome']"
            ]
          },
          "metadata": {},
          "execution_count": 14
        }
      ]
    },
    {
      "cell_type": "markdown",
      "source": [
        "O Python automaticamente chama o construtor __init__ da classe \"Pessoa\" com os argumentos \"João\" e 30, que então inicializa os atributos da classe \"nome\" e \"idade\" para os valores correspondentes.\n",
        "\n",
        "Além do construtor __init__, existem outros métodos especiais que podem ser usados em Python, como:\n",
        "\n",
        "__str__: é usado para definir a representação em string de uma instância da classe. Esse método é chamado quando usamos a função print ou a função str para converter o objeto em uma string.\n",
        "\n",
        "__repr__: é usado para definir a representação em string da classe em si, não de uma instância específica. Esse método é chamado quando usamos a função repr para obter uma representação em string da classe.\n",
        "\n",
        "__eq__ e __ne__: são usados para definir a igualdade e a desigualdade entre instâncias da classe. Esses métodos são chamados quando usamos os operadores de comparação == e !=.\n",
        "\n",
        "__lt__, __le__, __gt__ e __ge__: são usados para definir a ordem entre instâncias da classe. Esses métodos são chamados quando usamos os operadores de comparação <, <=, > e >=.\n",
        "#Qual a função do self.?\n",
        "\n",
        "Em Python, self é uma convenção utilizada como nome do primeiro parâmetro dos métodos de uma classe. O objetivo do self é fazer referência à instância atual da classe e permitir que o método acesse seus atributos e métodos.\n",
        "\n",
        "Quando criamos uma instância de uma classe e chamamos um método dessa instância, o Python automaticamente passa a instância como o primeiro argumento do método. O nome self é apenas uma convenção utilizada para esse primeiro argumento.\n",
        "\n",
        "Por exemplo, considere a seguinte classe:"
      ],
      "metadata": {
        "id": "rodJrwA6oOjM"
      }
    },
    {
      "cell_type": "code",
      "source": [
        "class Pessoa:\n",
        "    def __init__(self, nome, idade):\n",
        "        self.nome = nome\n",
        "        self.idade = idade\n",
        "\n",
        "    def apresentar(self):\n",
        "        print(\"Olá, meu nome é\", self.nome, \"e eu tenho\", self.idade, \"anos.\")\n"
      ],
      "metadata": {
        "id": "ytMDCoJ5ooDK"
      },
      "execution_count": 15,
      "outputs": []
    },
    {
      "cell_type": "markdown",
      "source": [
        "Nesta classe, temos um construtor __init__ que inicializa os atributos \"nome\" e \"idade\" da instância com os valores passados como parâmetros. Além disso, temos um método apresentar que imprime uma mensagem de apresentação com o nome e idade da instância.\n",
        "\n",
        "Note que o método apresentar recebe o parâmetro self como primeiro argumento, mas não precisamos passar esse argumento explicitamente quando chamamos o método. O Python automaticamente passa a instância como o primeiro argumento do método.\n",
        "\n",
        "Por exemplo, se criarmos uma instância da classe e chamarmos o método apresentar, como abaixo:\n",
        "\n",
        "---\n",
        "\n"
      ],
      "metadata": {
        "id": "Ta4j3xlrour2"
      }
    },
    {
      "cell_type": "code",
      "source": [
        "p = Pessoa(\"João\", 30)\n",
        "p.apresentar()\n"
      ],
      "metadata": {
        "id": "zpLi9dGPo2Kh",
        "colab": {
          "base_uri": "https://localhost:8080/"
        },
        "outputId": "a9a7dd34-97d1-427e-ee4e-db0361d62132"
      },
      "execution_count": 16,
      "outputs": [
        {
          "output_type": "stream",
          "name": "stdout",
          "text": [
            "Olá, meu nome é João e eu tenho 30 anos.\n"
          ]
        }
      ]
    },
    {
      "cell_type": "markdown",
      "source": [
        "#Como se sabe se um Encapsulamento em python está usando métodos privados e protegidos?\n",
        "\n",
        "O Python automaticamente passa a instância p como o primeiro argumento do método apresentar, permitindo que o método acesse os atributos \"nome\" e \"idade\" da instância utilizando self.nome e self.idade, respectivamente.\n",
        "\n",
        "Em Python, o encapsulamento é implementado usando convenções de nomenclatura. Não há, na verdade, métodos ou atributos privados ou protegidos como em outras linguagens orientadas a objetos, como Java ou C++.\n",
        "\n",
        "Por convenção, um atributo ou método que começa com um único sublinhado _ é considerado protegido, o que significa que ele não deve ser acessado diretamente fora da classe. Um atributo ou método que começa com dois sublinhados __ é considerado privado, o que significa que ele não deve ser acessado diretamente fora da classe e que seu nome é \"mangulado\" com o nome da classe, tornando-o menos visível.\n",
        "\n",
        "No entanto, essas convenções de nomenclatura não são aplicadas de forma estrita pelo Python, e é possível acessar esses atributos e métodos de fora da classe usando seus nomes completos. Por exemplo, é possível acessar um atributo protegido de uma instância de uma classe da seguinte forma:"
      ],
      "metadata": {
        "id": "Y8RD33r9o3l1"
      }
    },
    {
      "cell_type": "code",
      "source": [
        "class MinhaClasse:\n",
        "    def __init__(self):\n",
        "        self._atributo_protegido = 42\n",
        "\n",
        "objeto = MinhaClasse()\n",
        "print(objeto._atributo_protegido)  # saída: 42\n"
      ],
      "metadata": {
        "id": "7iMWW4qmp8YF",
        "colab": {
          "base_uri": "https://localhost:8080/"
        },
        "outputId": "08024ae2-f78e-4bf4-b392-a678e1de986b"
      },
      "execution_count": 17,
      "outputs": [
        {
          "output_type": "stream",
          "name": "stdout",
          "text": [
            "42\n"
          ]
        }
      ]
    },
    {
      "cell_type": "markdown",
      "source": [
        "Da mesma forma, é possível acessar um atributo privado de uma instância de uma classe da seguinte forma:\n"
      ],
      "metadata": {
        "id": "9TVhSW15qDj4"
      }
    },
    {
      "cell_type": "code",
      "source": [
        "class MinhaClasse:\n",
        "    def __init__(self):\n",
        "        self.__atributo_privado = 42\n",
        "\n",
        "objeto = MinhaClasse()\n",
        "print(objeto._MinhaClasse__atributo_privado)  # saída: 42\n"
      ],
      "metadata": {
        "id": "-pNdy9jWqJk4",
        "colab": {
          "base_uri": "https://localhost:8080/"
        },
        "outputId": "86208ec8-4eb2-485f-9fe0-cf650ed7a111"
      },
      "execution_count": 18,
      "outputs": [
        {
          "output_type": "stream",
          "name": "stdout",
          "text": [
            "42\n"
          ]
        }
      ]
    },
    {
      "cell_type": "markdown",
      "source": [
        "Note que o nome do atributo privado foi \"mangulado\" pelo Python com o nome da classe, tornando-o menos visível. No entanto, ainda é possível acessá-lo usando seu nome completo.\n",
        "\n",
        "Em resumo, em Python não há uma forma estrita de garantir o encapsulamento usando métodos privados e protegidos. É preciso confiar nas convenções de nomenclatura e na boa prática de programação para manter o encapsulamento de forma adequada.\n",
        "\n",
        "#Em python POO como são métodos e funções e como identifica-los se uma estrutura no python?\n",
        "\n",
        "Em Python, funções e métodos são definidos de maneira similar, mas a principal diferença é que métodos são funções definidas dentro de uma classe e podem acessar os atributos da instância da classe.\n",
        "\n",
        "Em termos de sintaxe, tanto funções quanto métodos são definidos usando a palavra-chave def, seguida pelo nome da função/método e uma lista de argumentos entre parênteses. A diferença é que os métodos têm um argumento adicional, chamado self, que é uma referência à instância atual da classe.\n",
        "\n",
        "Por exemplo, considere a classe MinhaClasse abaixo:"
      ],
      "metadata": {
        "id": "MUq6Es6UqM-n"
      }
    },
    {
      "cell_type": "code",
      "source": [
        "class MinhaClasse:\n",
        "    def minha_funcao(self, a, b):\n",
        "        return a + b\n",
        "\n",
        "def minha_funcao(a, b):\n",
        "    return a + b\n"
      ],
      "metadata": {
        "id": "lhGQW4oyruNP"
      },
      "execution_count": 19,
      "outputs": []
    },
    {
      "cell_type": "markdown",
      "source": [
        "Nessa classe, temos um método minha_funcao e uma função minha_funcao. Ambos recebem dois argumentos e retornam a soma desses argumentos. A diferença é que o método minha_funcao é definido dentro da classe MinhaClasse e recebe um argumento adicional self, que é uma referência à instância atual da classe.\n",
        "\n",
        "Para identificar se uma estrutura é uma função ou um método, basta verificar se ela é definida dentro de uma classe e se recebe um argumento self. Se a estrutura é definida dentro de uma classe e recebe o argumento self, então é um método; caso contrário, é uma função. Por exemplo:"
      ],
      "metadata": {
        "id": "ODnvE3JMrzls"
      }
    },
    {
      "cell_type": "code",
      "source": [
        "class MinhaClasse:\n",
        "    def meu_metodo(self, x):\n",
        "        return x + 1\n",
        "\n",
        "def minha_funcao(y):\n",
        "    return y + 1\n",
        "\n",
        "objeto = MinhaClasse()\n",
        "print(objeto.meu_metodo(10))    # saída: 11\n",
        "print(minha_funcao(10))         # saída: 11\n"
      ],
      "metadata": {
        "id": "_qbAKByir1Oo",
        "colab": {
          "base_uri": "https://localhost:8080/"
        },
        "outputId": "d1160b13-b14d-4e57-95d8-87450d0cd2a3"
      },
      "execution_count": 20,
      "outputs": [
        {
          "output_type": "stream",
          "name": "stdout",
          "text": [
            "11\n",
            "11\n"
          ]
        }
      ]
    },
    {
      "cell_type": "markdown",
      "source": [
        "No exemplo acima, meu_metodo é um método da classe MinhaClasse, porque é definido dentro dela e recebe o argumento self. minha_funcao, por outro lado, é uma função normal, porque é definida fora da classe e não recebe o argumento \"self\".\n",
        "\n",
        "#Como saber ser uma estrutura é callable em python?\n",
        "\n",
        "Em Python, podemos verificar se uma estrutura é chamável (callable) usando a função embutida callable(). Essa função retorna True se a estrutura pode ser chamada como uma função ou método e False caso contrário.\n",
        "\n",
        "As estruturas que podem ser chamadas em Python incluem:\n",
        "\n",
        "Funções definidas com a palavra-chave def\n",
        "Métodos definidos dentro de classes\n",
        "Funções lambda\n",
        "Métodos especiais, como __call__\n",
        "Por exemplo, vamos criar algumas estruturas e verificar se elas são chamáveis:\n"
      ],
      "metadata": {
        "id": "AbDZ-GC6r6Dv"
      }
    },
    {
      "cell_type": "code",
      "source": [
        "def minha_funcao():\n",
        "    print(\"Hello, world!\")\n",
        "\n",
        "class MinhaClasse:\n",
        "    def meu_metodo(self):\n",
        "        print(\"Hello, world!\")\n",
        "\n",
        "funcao_lambda = lambda: print(\"Hello, world!\")\n",
        "lista = [1, 2, 3]\n",
        "dicionario = {'a': 1, 'b': 2}\n",
        "\n",
        "print(callable(minha_funcao))    # saída: True\n",
        "print(callable(MinhaClasse))     # saída: True\n",
        "print(callable(funcao_lambda))   # saída: True\n",
        "print(callable(lista))           # saída: False\n",
        "print(callable(dicionario))      # saída: False\n"
      ],
      "metadata": {
        "id": "tHHej0Meso_F",
        "colab": {
          "base_uri": "https://localhost:8080/"
        },
        "outputId": "69288104-f84e-4b65-8f1a-ca50a6bea016"
      },
      "execution_count": 21,
      "outputs": [
        {
          "output_type": "stream",
          "name": "stdout",
          "text": [
            "True\n",
            "True\n",
            "True\n",
            "False\n",
            "False\n"
          ]
        }
      ]
    },
    {
      "cell_type": "markdown",
      "source": [
        "Nesse exemplo, minha_funcao, MeuClasse e funcao_lambda são chamáveis, enquanto lista e dicionario não são. Note que minha_funcao é uma função definida com a palavra-chave def, MeuClasse é uma classe que define um método meu_metodo, e funcao_lambda é uma função lambda. Todas essas estruturas são chamáveis e, portanto, a chamada para callable() retorna True. Já lista e dicionario não são chamáveis, pois são tipos de dados que não podem ser chamados como funções ou métodos.\n",
        "\n",
        "#Quais ferramentas e como elas podem ser usadas para pesquisar as estruturas dos objetos em python?\n",
        "\n",
        "Existem algumas ferramentas que podem ser usadas para pesquisar as estruturas dos objetos em Python:\n",
        "\n",
        "Função type(): essa função retorna o tipo de um objeto em Python. Por exemplo, type(10) retorna <class 'int'>, indicando que o objeto é um inteiro.\n",
        "\n",
        "Função dir(): essa função retorna uma lista com os atributos e métodos disponíveis para um objeto em Python. Por exemplo, dir([]) retorna uma lista com os métodos disponíveis para a classe list.\n",
        "\n",
        "Módulo inspect: o módulo inspect fornece funções para examinar objetos em Python. Por exemplo, a função inspect.getmembers(obj) retorna uma lista com os membros disponíveis para um objeto em Python.\n",
        "\n",
        "Ferramenta de depuração pdb: a ferramenta pdb pode ser usada para depurar código em Python. Quando o código é interrompido em um ponto de interrupção, é possível examinar as variáveis e objetos em tempo de execução usando comandos como print, pprint e dir.\n",
        "\n",
        "Módulo pprint: o módulo pprint pode ser usado para imprimir objetos em Python de forma mais legível. Por exemplo, pprint.pprint(obj) imprime o objeto obj de forma mais organizada.\n",
        "\n",
        "Módulo json: o módulo json pode ser usado para serializar objetos em Python em formato JSON. Isso pode ser útil para examinar objetos complexos que são difíceis de entender quando impressos na tela.\n",
        "\n",
        "Essas são apenas algumas das ferramentas disponíveis para pesquisar as estruturas dos objetos em Python. Dependendo do problema que você está tentando resolver, outras ferramentas ou abordagens podem ser mais apropriadas.\n",
        "\n",
        "#O que é json e como ele é usado em python? \n",
        "\n",
        "JSON (JavaScript Object Notation) é um formato de dados leve e fácil de ler e escrever. Ele é frequentemente usado para transmitir dados estruturados pela web ou para armazenar dados em arquivos. Em Python, podemos usar o módulo json para codificar e decodificar dados no formato JSON.\n",
        "\n",
        "A codificação JSON é o processo de converter um objeto Python em uma sequência de caracteres JSON, que pode ser transmitida pela web ou gravada em um arquivo. A decodificação JSON é o processo inverso, convertendo uma sequência de caracteres JSON em um objeto Python.\n",
        "\n",
        "Para codificar um objeto Python em JSON, podemos usar a função json.dumps(). Por exemplo:"
      ],
      "metadata": {
        "id": "fp9XQ_t4sqMY"
      }
    },
    {
      "cell_type": "code",
      "source": [
        "import json\n",
        "\n",
        "dados = {\n",
        "    \"nome\": \"João\",\n",
        "    \"idade\": 30,\n",
        "    \"cidades_visitadas\": [\"São Paulo\", \"Rio de Janeiro\", \"Belo Horizonte\"]\n",
        "}\n",
        "\n",
        "json_string = json.dumps(dados)\n",
        "\n",
        "print(json_string)\n"
      ],
      "metadata": {
        "id": "NujuKfmhugAu",
        "colab": {
          "base_uri": "https://localhost:8080/"
        },
        "outputId": "763db35f-58f1-4ffc-b144-b44ad5c90cc8"
      },
      "execution_count": 22,
      "outputs": [
        {
          "output_type": "stream",
          "name": "stdout",
          "text": [
            "{\"nome\": \"Jo\\u00e3o\", \"idade\": 30, \"cidades_visitadas\": [\"S\\u00e3o Paulo\", \"Rio de Janeiro\", \"Belo Horizonte\"]}\n"
          ]
        }
      ]
    },
    {
      "cell_type": "markdown",
      "source": [
        "Isso produzirá uma sequência de caracteres JSON como esta:\n",
        "\n",
        "{\"nome\": \"João\", \"idade\": 30, \"cidades_visitadas\": [\"São Paulo\", \"Rio de Janeiro\", \"Belo Horizonte\"]}\n",
        "\n",
        "Para decodificar uma sequência de caracteres JSON em um objeto Python, podemos usar a função json.loads(). Por exemplo:"
      ],
      "metadata": {
        "id": "6kyrF7jauk2p"
      }
    },
    {
      "cell_type": "code",
      "source": [
        "import json\n",
        "\n",
        "json_string = '{\"nome\": \"João\", \"idade\": 30, \"cidades_visitadas\": [\"São Paulo\", \"Rio de Janeiro\", \"Belo Horizonte\"]}'\n",
        "\n",
        "dados = json.loads(json_string)\n",
        "\n",
        "print(dados)\n"
      ],
      "metadata": {
        "id": "fWJbOjymultv",
        "colab": {
          "base_uri": "https://localhost:8080/"
        },
        "outputId": "ba8e56d2-14ba-43e3-f3a4-a88579fbde00"
      },
      "execution_count": 23,
      "outputs": [
        {
          "output_type": "stream",
          "name": "stdout",
          "text": [
            "{'nome': 'João', 'idade': 30, 'cidades_visitadas': ['São Paulo', 'Rio de Janeiro', 'Belo Horizonte']}\n"
          ]
        }
      ]
    },
    {
      "cell_type": "markdown",
      "source": [
        "Isso produzirá um objeto Python como este:\n",
        "\n",
        "{\n",
        "    \"nome\": \"João\",\n",
        "    \"idade\": 30,\n",
        "    \"cidades_visitadas\": [\"São Paulo\", \"Rio de Janeiro\", \"Belo Horizonte\"]\n",
        "}\n",
        "O módulo json também fornece outras funções e classes para trabalhar com JSON em Python, como json.dump(), json.load(), JSONEncoder e JSONDecoder. Com essas ferramentas, podemos facilmente codificar e decodificar dados no formato JSON em Python.\n",
        "\n",
        "\n",
        "#Faça um exemplo que use todos os conteúdos vistos até, como encapsulamento, herança e polimorfismo e instanciação de um objeto e exemplos de um objeto callable e não, por fim use a função dir() para abrir as estruturas de dados do objeto feito?\n",
        "\n"
      ],
      "metadata": {
        "id": "azM30GBYu6CH"
      }
    },
    {
      "cell_type": "code",
      "source": [
        "class Animal:\n",
        "    def __init__(self, nome, idade):\n",
        "        self.__nome = nome\n",
        "        self.__idade = idade\n",
        "\n",
        "    def get_nome(self):\n",
        "        return self.__nome\n",
        "\n",
        "    def set_nome(self, nome):\n",
        "        self.__nome = nome\n",
        "\n",
        "    def get_idade(self):\n",
        "        return self.__idade\n",
        "\n",
        "    def set_idade(self, idade):\n",
        "        self.__idade = idade\n",
        "\n",
        "    def emitir_som(self):\n",
        "        raise NotImplementedError(\"Método emitir_som deve ser implementado na subclasse\")\n",
        "\n",
        "class Cachorro(Animal):\n",
        "    def emitir_som(self):\n",
        "        return \"Au Au!\"\n",
        "\n",
        "class Gato(Animal):\n",
        "    def emitir_som(self):\n",
        "        return \"Miau!\"\n",
        "\n",
        "class Zoologico:\n",
        "    def __init__(self):\n",
        "        self.__animais = []\n",
        "\n",
        "    def adicionar_animal(self, animal):\n",
        "        self.__animais.append(animal)\n",
        "\n",
        "    def listar_animais(self):\n",
        "        for animal in self.__animais:\n",
        "            print(f\"{animal.get_nome()} ({type(animal).__name__}) diz: {animal.emitir_som()}\")\n",
        "\n",
        "# criando instâncias de animais\n",
        "rex = Cachorro(\"Rex\", 5)\n",
        "misty = Gato(\"Misty\", 3)\n",
        "\n",
        "# criando um objeto do tipo Zoologico\n",
        "zoo = Zoologico()\n",
        "\n",
        "# adicionando os animais no zoológico\n",
        "zoo.adicionar_animal(rex)\n",
        "zoo.adicionar_animal(misty)\n",
        "\n",
        "# chamando o método listar_animais para imprimir os nomes e sons dos animais\n",
        "zoo.listar_animais()\n",
        "\n",
        "# verificando se o objeto é callable\n",
        "print(callable(zoo.adicionar_animal))\n",
        "print(callable(zoo))\n"
      ],
      "metadata": {
        "id": "evMGGfK4wgUf",
        "colab": {
          "base_uri": "https://localhost:8080/"
        },
        "outputId": "14d22327-8b65-4fd9-cafa-8673043ed129"
      },
      "execution_count": 24,
      "outputs": [
        {
          "output_type": "stream",
          "name": "stdout",
          "text": [
            "Rex (Cachorro) diz: Au Au!\n",
            "Misty (Gato) diz: Miau!\n",
            "True\n",
            "False\n"
          ]
        }
      ]
    },
    {
      "cell_type": "code",
      "source": [
        "dir(Animal)"
      ],
      "metadata": {
        "colab": {
          "base_uri": "https://localhost:8080/"
        },
        "id": "TLD1JDBcltKE",
        "outputId": "f1abea55-5bed-4247-e3b3-19e0c9265f76"
      },
      "execution_count": 25,
      "outputs": [
        {
          "output_type": "execute_result",
          "data": {
            "text/plain": [
              "['__class__',\n",
              " '__delattr__',\n",
              " '__dict__',\n",
              " '__dir__',\n",
              " '__doc__',\n",
              " '__eq__',\n",
              " '__format__',\n",
              " '__ge__',\n",
              " '__getattribute__',\n",
              " '__gt__',\n",
              " '__hash__',\n",
              " '__init__',\n",
              " '__init_subclass__',\n",
              " '__le__',\n",
              " '__lt__',\n",
              " '__module__',\n",
              " '__ne__',\n",
              " '__new__',\n",
              " '__reduce__',\n",
              " '__reduce_ex__',\n",
              " '__repr__',\n",
              " '__setattr__',\n",
              " '__sizeof__',\n",
              " '__str__',\n",
              " '__subclasshook__',\n",
              " '__weakref__',\n",
              " 'emitir_som',\n",
              " 'get_idade',\n",
              " 'get_nome',\n",
              " 'set_idade',\n",
              " 'set_nome']"
            ]
          },
          "metadata": {},
          "execution_count": 25
        }
      ]
    },
    {
      "cell_type": "code",
      "source": [
        "# imprimindo as estruturas de dados do objeto zoo com a função dir()\n",
        "dir(zoo)"
      ],
      "metadata": {
        "id": "XLjvR1QNmIhH",
        "colab": {
          "base_uri": "https://localhost:8080/"
        },
        "outputId": "6ab96d41-7469-40c5-a1ad-86de7006eb95"
      },
      "execution_count": 26,
      "outputs": [
        {
          "output_type": "execute_result",
          "data": {
            "text/plain": [
              "['_Zoologico__animais',\n",
              " '__class__',\n",
              " '__delattr__',\n",
              " '__dict__',\n",
              " '__dir__',\n",
              " '__doc__',\n",
              " '__eq__',\n",
              " '__format__',\n",
              " '__ge__',\n",
              " '__getattribute__',\n",
              " '__gt__',\n",
              " '__hash__',\n",
              " '__init__',\n",
              " '__init_subclass__',\n",
              " '__le__',\n",
              " '__lt__',\n",
              " '__module__',\n",
              " '__ne__',\n",
              " '__new__',\n",
              " '__reduce__',\n",
              " '__reduce_ex__',\n",
              " '__repr__',\n",
              " '__setattr__',\n",
              " '__sizeof__',\n",
              " '__str__',\n",
              " '__subclasshook__',\n",
              " '__weakref__',\n",
              " 'adicionar_animal',\n",
              " 'listar_animais']"
            ]
          },
          "metadata": {},
          "execution_count": 26
        }
      ]
    },
    {
      "cell_type": "code",
      "source": [
        "dir(cachorro)"
      ],
      "metadata": {
        "colab": {
          "base_uri": "https://localhost:8080/"
        },
        "id": "IQwYOgRamUO0",
        "outputId": "72c8a267-d840-4599-d385-19e74d48bd81"
      },
      "execution_count": 27,
      "outputs": [
        {
          "output_type": "execute_result",
          "data": {
            "text/plain": [
              "['__class__',\n",
              " '__delattr__',\n",
              " '__dict__',\n",
              " '__dir__',\n",
              " '__doc__',\n",
              " '__eq__',\n",
              " '__format__',\n",
              " '__ge__',\n",
              " '__getattribute__',\n",
              " '__gt__',\n",
              " '__hash__',\n",
              " '__init__',\n",
              " '__init_subclass__',\n",
              " '__le__',\n",
              " '__lt__',\n",
              " '__module__',\n",
              " '__ne__',\n",
              " '__new__',\n",
              " '__reduce__',\n",
              " '__reduce_ex__',\n",
              " '__repr__',\n",
              " '__setattr__',\n",
              " '__sizeof__',\n",
              " '__str__',\n",
              " '__subclasshook__',\n",
              " '__weakref__',\n",
              " 'fazer_som',\n",
              " 'nome']"
            ]
          },
          "metadata": {},
          "execution_count": 27
        }
      ]
    },
    {
      "cell_type": "code",
      "source": [
        "dir(gato)"
      ],
      "metadata": {
        "colab": {
          "base_uri": "https://localhost:8080/"
        },
        "id": "RpqrV_gDmINh",
        "outputId": "2c053272-9864-4c0f-f481-29245186904b"
      },
      "execution_count": 28,
      "outputs": [
        {
          "output_type": "execute_result",
          "data": {
            "text/plain": [
              "['__class__',\n",
              " '__delattr__',\n",
              " '__dict__',\n",
              " '__dir__',\n",
              " '__doc__',\n",
              " '__eq__',\n",
              " '__format__',\n",
              " '__ge__',\n",
              " '__getattribute__',\n",
              " '__gt__',\n",
              " '__hash__',\n",
              " '__init__',\n",
              " '__init_subclass__',\n",
              " '__le__',\n",
              " '__lt__',\n",
              " '__module__',\n",
              " '__ne__',\n",
              " '__new__',\n",
              " '__reduce__',\n",
              " '__reduce_ex__',\n",
              " '__repr__',\n",
              " '__setattr__',\n",
              " '__sizeof__',\n",
              " '__str__',\n",
              " '__subclasshook__',\n",
              " '__weakref__',\n",
              " 'fazer_som',\n",
              " 'nome']"
            ]
          },
          "metadata": {},
          "execution_count": 28
        }
      ]
    },
    {
      "cell_type": "markdown",
      "source": [
        "Além do função magica %whos usado no jypyter lab, existem outras ferramentas no JupyterLab que permitem explorar a estrutura de dados de um objeto em Python, como:\n",
        "\n",
        "* dir() - retorna uma lista de todos os atributos e métodos disponíveis de um objeto;\n",
        "* help() - retorna a documentação do objeto e seus métodos;\n",
        "* type() - retorna o tipo de um objeto;\n",
        "* isinstance() - verifica se um objeto é uma instância de uma determinada classe ou de uma classe derivada dela.\n",
        "Além disso, a extensão ipywidgets do JupyterLab oferece várias ferramentas de visualização de dados, como gráficos e tabelas, que podem ajudar a explorar a estrutura de dados de um objeto de maneira mais visual."
      ],
      "metadata": {
        "id": "a3__vwnamLbK"
      }
    },
    {
      "cell_type": "markdown",
      "source": [
        "Neste exemplo, temos uma classe Animal com um construtor que recebe o nome e a idade do animal, e métodos get e set para encapsular esses atributos. A classe Animal também possui um método abstrato emitir_som() que deve ser implementado nas subclasses.\n",
        "\n",
        "As classes Cachorro e Gato herdam de Animal e implementam o método emitir_som().\n",
        "\n",
        "A classe Zoologico também é criada, que possui uma lista de animais e métodos para adicionar animais à lista e listar todos os animais no zoológico.\n",
        "\n",
        "Em seguida, criamos instâncias de animais (um cachorro e um gato), criamos um objeto Zoologico, adicionamos os animais no zoológico e chamamos o método listar_animais() para imprimir os nomes e sons dos animais.\n",
        "\n",
        "Em seguida, verificamos se o método adicionar_animal e o objeto zoo são callable, usando a função callable().\n",
        "\n",
        "Por fim, usamos a função dir() para imprimir as estruturas de dados do objeto zoo, que inclui métodos e atributos herdados das classes Animal e object, além de métodos e atributos definidos na classe Zoologico.\n",
        "\n",
        "No exemplo acima, a herança é utilizada na definição das classes Cachorro e Gato, que herdam da classe Animal.\n",
        "\n",
        "A classe Animal define os atributos comuns de todos os animais (nome e idade) e um método abstrato emitir_som(). As classes Cachorro e Gato herdam esses atributos e métodos da classe Animal e implementam o método emitir_som() de acordo com as características de cada animal.\n",
        "\n",
        "Dessa forma, podemos criar instâncias das classes Cachorro e Gato que possuem os atributos e métodos da classe Animal, bem como os atributos e métodos específicos de cada uma das subclasses. A herança, portanto, nos permite reutilizar código comum entre as classes e especializar o comportamento em subclasses específicas.\n",
        "\n",
        "Já o polimorfismo está presente na forma como o método emitir_som() é implementado nas classes Cachorro e Gato.\n",
        "\n",
        "Embora ambas as classes tenham um método com o mesmo nome, a implementação do método é diferente em cada uma delas, de acordo com as características de cada animal. Isso significa que, quando chamamos o método emitir_som() em uma instância de Cachorro, o comportamento é diferente do que quando chamamos o mesmo método em uma instância de Gato.\n",
        "Dessa forma, o polimorfismo nos permite tratar objetos de diferentes classes de maneira uniforme, utilizando métodos com a mesma assinatura, mas com comportamentos diferentes em cada classe.\n",
        "\n",
        "## **Exercicio proposto**\n",
        "\n",
        "Use o codigo abaixo substituindo a cachorro por galo, o galo pela vaca (e seus sons)\n",
        "\n",
        "** ESTE CÓDIGO TEM ERROS É SOMENTE UM FIO DA MEADA**"
      ],
      "metadata": {
        "id": "D8-1CGuM0LPa"
      }
    },
    {
      "cell_type": "code",
      "source": [
        "class Animal:\n",
        "    def __init__(self, nome, idade):\n",
        "        self.__nome = nome\n",
        "        self.__idade = idade\n",
        "\n",
        "    def get_nome(self):\n",
        "        return self.__nome\n",
        "\n",
        "    def set_nome(self, nome):\n",
        "        self.__nome = nome\n",
        "\n",
        "    def get_idade(self):\n",
        "        return self.__idade\n",
        "\n",
        "    def set_idade(self, idade):\n",
        "        self.__idade = idade\n",
        "\n",
        "    def emitir_som(self):\n",
        "        raise NotImplementedError(\"Método emitir_som deve ser implementado na subclasse\")\n",
        "\n",
        "\n",
        "class Galo(Animal):\n",
        "    def emitir_som(self):\n",
        "        return \"Cocoricó!\"\n",
        "\n",
        "\n",
        "class Vaca(Animal):\n",
        "    def emitir_som(self):\n",
        "        return \"Muuuu!\"\n",
        "\n",
        "\n",
        "class Zoologico:\n",
        "    def __init__(self):\n",
        "        self.__animais = []\n",
        "\n",
        "    def adicionar_animal(self, animal):\n",
        "        self.__animais.append(animal)\n",
        "\n",
        "    def listar_animais(self):\n",
        "        for animal in self.__animais:\n",
        "            print(f\"{animal.get_nome()} ({type(animal).__name__}) diz: {animal.emitir_som()}\")\n",
        "\n",
        "# criando instâncias de animais\n",
        "galo = Galo(\"Chico\", 3)\n",
        "vaca = Vaca(\"Mimosa\", 3)\n",
        "\n",
        "# criando um objeto do tipo Zoologico\n",
        "zoo = Zoologico()\n",
        "\n",
        "# adicionando os animais no zoológico\n",
        "zoo.adicionar_animal(galo)\n",
        "zoo.adicionar_animal(vaca)\n",
        "\n",
        "# chamando o método listar_animais para imprimir os nomes e sons dos animais\n",
        "zoo.listar_animais()\n",
        "\n",
        "## verificando se o objeto é callable\n",
        "#print(callable(zoo.adicionar_animal))\n",
        "#print(callable(zoo))\n",
        "#\n",
        "## imprimindo as estruturas de dados do objeto zoo com a função dir()\n",
        "#dir(zoo)"
      ],
      "metadata": {
        "colab": {
          "base_uri": "https://localhost:8080/"
        },
        "id": "VzX1ksz6PNHX",
        "outputId": "7c0c69be-3796-4cc8-dfe9-88f1f17bb2c1"
      },
      "execution_count": 29,
      "outputs": [
        {
          "output_type": "stream",
          "name": "stdout",
          "text": [
            "Chico (Galo) diz: Cocoricó!\n",
            "Mimosa (Vaca) diz: Muuuu!\n"
          ]
        }
      ]
    }
  ]
}
